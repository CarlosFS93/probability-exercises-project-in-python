{
 "cells": [
  {
   "cell_type": "markdown",
   "id": "a41f3622",
   "metadata": {},
   "source": [
    "# Probability exercises"
   ]
  },
  {
   "cell_type": "markdown",
   "id": "a6bdbd89",
   "metadata": {},
   "source": [
    "## Exercise 1 \n",
    "\n",
    "Two dices are thrown once and the total score is observed. Use a simulation to find the estimated probability that the total score is even or greater than 7.  A simulation is a repetition of the same experiment multiple times to observe its behavior:\n",
    "\n",
    "- Run the experiment 1000 times (roll 2 dice 1000 times, and sum the number of both dices).\n",
    "- Keep track of the number of times that the sum was either greater than 7 or an even number.\n",
    "- Divide the number from step 2 by the number of iterations (1000)."
   ]
  },
  {
   "cell_type": "code",
   "execution_count": 1,
   "id": "8939d892",
   "metadata": {},
   "outputs": [
    {
     "data": {
      "text/plain": [
       "(655, 0.655)"
      ]
     },
     "execution_count": 1,
     "metadata": {},
     "output_type": "execute_result"
    }
   ],
   "source": [
    "# TODO\n",
    "import random\n",
    "\n",
    "def roll(n):\n",
    "    lucky = 0\n",
    "    for x in range(n):\n",
    "        a = random.randint(1,6)\n",
    "        b = random.randint(1,6)\n",
    "        if a + b > 7 or (a + b) % 2 == 0:\n",
    "            lucky +=1\n",
    "\n",
    "    odds = lucky/n\n",
    "\n",
    "    return lucky,odds\n",
    "\n",
    "roll(1000)\n"
   ]
  },
  {
   "cell_type": "markdown",
   "id": "55732bca",
   "metadata": {},
   "source": [
    "## Exercise 2\n",
    "\n",
    "A box contains 10 white balls, 20 red balls and 30 green balls. If we take 5 balls from the box with replacement (we take the ball, observe what color it is and put it back into the box). We want to know the probability of:\n",
    "\n",
    "1. Take 3 white and 2 red.\n",
    "2. Take all of the same color.\n",
    "\n",
    "Run the experiment 1000 times and calculate the above probabilities."
   ]
  },
  {
   "cell_type": "code",
   "execution_count": 4,
   "id": "23244d20",
   "metadata": {},
   "outputs": [
    {
     "name": "stdout",
     "output_type": "stream",
     "text": [
      "The chance to have 3 White and 2 red is 0.4\n",
      "The chance to have all the same color is 4.3\n"
     ]
    }
   ],
   "source": [
    "import random\n",
    "\n",
    "ball_box = {}\n",
    "\n",
    "# Create the box of balls\n",
    "for i in range(60):\n",
    "    if i < 10:\n",
    "        ball_box[i] = \"White\"\n",
    "    elif (i > 9) and (i < 30):\n",
    "        ball_box[i] = \"Red\"\n",
    "    else:\n",
    "        ball_box[i] = \"Green\"\n",
    "\n",
    "#print(ball_box)\n",
    "            \n",
    "# TODO\n",
    "n = 1000\n",
    "balls = {}\n",
    "for i in range(n):\n",
    "    balls[i] = [random.choice(list(ball_box.values())) for x in range(5)]\n",
    "lucky_1 = 0\n",
    "lucky_2 = 0\n",
    "for key,colors in balls.items():\n",
    "    white = colors.count('White')\n",
    "    red = colors.count('Red')\n",
    "    green = colors.count('Green')\n",
    "\n",
    "    if white == 3 and red == 2:\n",
    "        lucky_1 +=1 \n",
    "    elif white == 5 or red == 5 or green == 5:\n",
    "        lucky_2 +=1 \n",
    "\n",
    "case_1_chance = lucky_1/n * 100\n",
    "case_2_chance = lucky_2/n * 100\n",
    "\n",
    "print(f'The chance to have 3 White and 2 red is {case_1_chance}')\n",
    "print(f'The chance to have all the same color is {case_2_chance}')\n"
   ]
  }
 ],
 "metadata": {
  "kernelspec": {
   "display_name": "Python 3",
   "language": "python",
   "name": "python3"
  },
  "language_info": {
   "codemirror_mode": {
    "name": "ipython",
    "version": 3
   },
   "file_extension": ".py",
   "mimetype": "text/x-python",
   "name": "python",
   "nbconvert_exporter": "python",
   "pygments_lexer": "ipython3",
   "version": "3.11.4"
  }
 },
 "nbformat": 4,
 "nbformat_minor": 5
}
